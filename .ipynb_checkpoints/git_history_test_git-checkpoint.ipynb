{
 "cells": [
  {
   "cell_type": "code",
   "execution_count": 1,
   "metadata": {
    "collapsed": true
   },
   "outputs": [],
   "source": [
    "# %load https://gist.githubusercontent.com/kidpixo/2ec078d09834b5aa7869/raw/c8812811211dc7cd62f5b530b51b0104f39263ff/ipython%20inizialization\n",
    "import pandas as pd\n",
    "import numpy as np\n",
    "import matplotlib\n",
    "from matplotlib import pyplot as plt\n",
    "%matplotlib inline"
   ]
  },
  {
   "cell_type": "code",
   "execution_count": 9,
   "metadata": {
    "collapsed": false,
    "scrolled": true
   },
   "outputs": [
    {
     "name": "stdout",
     "output_type": "stream",
     "text": [
      "Commit SHA-1 value: 7545477\n",
      "Commit SHA-1 value: b904ffd\n",
      "Commit SHA-1 value: 050a563\n",
      "Commit SHA-1 value: e92be1e\n",
      "Commit SHA-1 value: 976869c\n",
      "Commit SHA-1 value: 39ab315\n",
      "Commit SHA-1 value: 8ea5de7\n",
      "Commit SHA-1 value: afa0783\n",
      "Commit SHA-1 value: a4cb9a1\n",
      "Commit SHA-1 value: 112e832\n",
      "Commit SHA-1 value: 4714408\n",
      "Commit SHA-1 value: 1ac1c35\n"
     ]
    }
   ],
   "source": [
    "commits_list = ! git --no-pager log --reverse --oneline\n",
    "\n",
    "commits = []\n",
    "for i in commits_list:\n",
    "    sha1 = i.split(' ')[0]\n",
    "    print 'Commit SHA-1 value:',sha1\n",
    "    commits.append(sha1)"
   ]
  },
  {
   "cell_type": "code",
   "execution_count": 41,
   "metadata": {
    "collapsed": false
   },
   "outputs": [
    {
     "name": "stdout",
     "output_type": "stream",
     "text": [
      "7545477 initialize repo and add first file\n",
      "b904ffd added a and b\n",
      "050a563 modified a\n",
      "e92be1e deleted b\n",
      "976869c added d and e\n",
      "39ab315 modified d and e\n",
      "8ea5de7 added f , modified a\n",
      "afa0783 modified creation.sh\n",
      "a4cb9a1 deleted d\n",
      "112e832 modified creation.sh, f and e\n",
      "4714408 added python script\n",
      "1ac1c35 added wrong script: deleted and substituted\n"
     ]
    }
   ],
   "source": [
    "import subprocess\n",
    "\n",
    "path = '/Users/damo_ma/Downloads/github_rep/git_history_visualizer'\n",
    "p = subprocess.Popen(['git -C '+path+' --no-pager log --reverse --oneline'], stdout=subprocess.PIPE, shell=True)\n",
    "for line in iter(p.stdout.readline,''):\n",
    "    print line.rstrip()"
   ]
  },
  {
   "cell_type": "code",
   "execution_count": 3,
   "metadata": {
    "collapsed": true
   },
   "outputs": [],
   "source": [
    "all_files = ! git --no-pager log --reverse --name-only --oneline --pretty='format:' |  sed '/^$/d' | sort | uniq"
   ]
  },
  {
   "cell_type": "markdown",
   "metadata": {},
   "source": [
    "### Legend\n",
    "\n",
    "git status\n",
    "\n",
    "- `A` : file **A**dded\n",
    "- `D` : file **D**eleted\n",
    "- `M` : file **M**odified\n",
    "- `S` : file is **S**tatic (nothing happen)\n",
    "- `N` : file is **N**on existent\n",
    "\n",
    "See the official [Git - git-log Documentation](http://git-scm.com/docs/git-log) :\n",
    "\n",
    "    --diff-filter=[(A|C|D|M|R|T|U|X|B)…[*]]\n",
    "    \n",
    "    Select only files that are Added (A), Copied (C), Deleted (D), Modified (M), Renamed (R), have their type (i.e. regular file, symlink, submodule, …) changed (T), are Unmerged (U), are Unknown (X), or have had their pairing Broken (B). Any combination of the filter characters (including none) can be used. When * (All-or-none) is added to the combination, all paths are selected if there is any file that matches other criteria in the comparison; if there is no file that matches other criteria, nothing is selected.\n",
    "\n"
   ]
  },
  {
   "cell_type": "code",
   "execution_count": 11,
   "metadata": {
    "collapsed": false
   },
   "outputs": [],
   "source": [
    "all_filenames = pd.DataFrame(pd.DataFrame(list(all_files)),columns=commits, index=all_files)\n",
    "all_commits = ! git --no-pager log --reverse --name-status --oneline --pretty='format:COMMIT %h %s' | tr '\\t' ' ' | sed -e '/^$/d'\n",
    "\n",
    "def_states = {\n",
    "    'A' : 0,\n",
    "    'M' : 32,\n",
    "    'S' : 64, # custom value, Static\n",
    "    'D' : 128,\n",
    "    'N' : 128, # custom value, Non existent\n",
    "}\n",
    "\n",
    "def_states_explain = {\n",
    "    'A' : 'Added',\n",
    "    'D' : 'Deleted',\n",
    "    'M' : 'Modified',\n",
    "    'S' : 'Static',\n",
    "    'N' : 'Non existent'\n",
    "}\n",
    "\n",
    "# fill NaN\n",
    "all_filenames.fillna('N', inplace=True)\n",
    "\n",
    "actual_commit = 0\n",
    "# previous_commit = 0\n",
    "for i in all_commits:\n",
    "    # set the commit number\n",
    "    if i[0] == 'C':\n",
    "        value = i.split(' ')[1]\n",
    "        # starting at the second commit see which file exist in the previous commit\n",
    "        if actual_commit != int(all_filenames.columns[0]):\n",
    "             previous_commit = actual_commit\n",
    "        actual_commit = value\n",
    "        # assig 1 to file not null un the previous commit\n",
    "        if previous_commit != 0:\n",
    "            all_filenames[actual_commit][\n",
    "                (all_filenames[previous_commit] != 'N') & (all_filenames[previous_commit] != 'D')] = 'S'\n",
    "#             all_filenames[previous_commit][all_filenames[actual_commit] == 'D'] = 'D'\n",
    "#             all_filenames[actual_commit][all_filenames[actual_commit] == 'D']   = 'N'\n",
    "#         print previous_commit,'>',actual_commit\n",
    "    else:\n",
    "        state,value = i.split(' ')\n",
    "#         print ' '*4,'-',state,value\n",
    "        all_filenames.ix[value,actual_commit] = state"
   ]
  },
  {
   "cell_type": "code",
   "execution_count": 12,
   "metadata": {
    "collapsed": false
   },
   "outputs": [
    {
     "data": {
      "text/plain": [
       "['COMMIT 7545477 initialize repo and add first file',\n",
       " 'A creation.sh',\n",
       " 'COMMIT b904ffd added a and b',\n",
       " 'A a.txt',\n",
       " 'A b.txt',\n",
       " 'COMMIT 050a563 modified a',\n",
       " 'M a.txt',\n",
       " 'COMMIT e92be1e deleted b',\n",
       " 'D b.txt',\n",
       " 'COMMIT 976869c added d and e',\n",
       " 'A c.txt',\n",
       " 'A d.txt',\n",
       " 'A e.txt',\n",
       " 'COMMIT 39ab315 modified d and e',\n",
       " 'M d.txt',\n",
       " 'M e.txt',\n",
       " 'COMMIT 8ea5de7 added f , modified a',\n",
       " 'M a.txt',\n",
       " 'A f.txt',\n",
       " 'COMMIT afa0783 modified creation.sh',\n",
       " 'A .creation.sh.swp',\n",
       " 'M creation.sh',\n",
       " 'COMMIT a4cb9a1 deleted d',\n",
       " 'D d.txt',\n",
       " 'COMMIT 112e832 modified creation.sh, f and e',\n",
       " 'D .creation.sh.swp',\n",
       " 'D c.txt',\n",
       " 'M creation.sh',\n",
       " 'M e.txt',\n",
       " 'M f.txt',\n",
       " 'COMMIT 4714408 added python script',\n",
       " 'A git_history.ipynb',\n",
       " 'A git_history.py',\n",
       " 'COMMIT 1ac1c35 added wrong script: deleted and substituted',\n",
       " 'D git_history.ipynb',\n",
       " 'D git_history.py',\n",
       " 'A git_history_test_git.ipynb',\n",
       " 'A git_history_test_git.py']"
      ]
     },
     "execution_count": 12,
     "metadata": {},
     "output_type": "execute_result"
    }
   ],
   "source": [
    "all_commits"
   ]
  },
  {
   "cell_type": "code",
   "execution_count": 13,
   "metadata": {
    "collapsed": false
   },
   "outputs": [
    {
     "data": {
      "text/html": [
       "<div>\n",
       "<table border=\"1\" class=\"dataframe\">\n",
       "  <thead>\n",
       "    <tr style=\"text-align: right;\">\n",
       "      <th></th>\n",
       "      <th>7545477</th>\n",
       "      <th>b904ffd</th>\n",
       "      <th>050a563</th>\n",
       "      <th>e92be1e</th>\n",
       "      <th>976869c</th>\n",
       "      <th>39ab315</th>\n",
       "      <th>8ea5de7</th>\n",
       "      <th>afa0783</th>\n",
       "      <th>a4cb9a1</th>\n",
       "      <th>112e832</th>\n",
       "      <th>4714408</th>\n",
       "      <th>1ac1c35</th>\n",
       "    </tr>\n",
       "  </thead>\n",
       "  <tbody>\n",
       "    <tr>\n",
       "      <th>.creation.sh.swp</th>\n",
       "      <td>N</td>\n",
       "      <td>N</td>\n",
       "      <td>N</td>\n",
       "      <td>N</td>\n",
       "      <td>N</td>\n",
       "      <td>N</td>\n",
       "      <td>N</td>\n",
       "      <td>A</td>\n",
       "      <td>S</td>\n",
       "      <td>D</td>\n",
       "      <td>N</td>\n",
       "      <td>N</td>\n",
       "    </tr>\n",
       "    <tr>\n",
       "      <th>a.txt</th>\n",
       "      <td>N</td>\n",
       "      <td>A</td>\n",
       "      <td>M</td>\n",
       "      <td>S</td>\n",
       "      <td>S</td>\n",
       "      <td>S</td>\n",
       "      <td>M</td>\n",
       "      <td>S</td>\n",
       "      <td>S</td>\n",
       "      <td>S</td>\n",
       "      <td>S</td>\n",
       "      <td>S</td>\n",
       "    </tr>\n",
       "    <tr>\n",
       "      <th>b.txt</th>\n",
       "      <td>N</td>\n",
       "      <td>A</td>\n",
       "      <td>S</td>\n",
       "      <td>D</td>\n",
       "      <td>N</td>\n",
       "      <td>N</td>\n",
       "      <td>N</td>\n",
       "      <td>N</td>\n",
       "      <td>N</td>\n",
       "      <td>N</td>\n",
       "      <td>N</td>\n",
       "      <td>N</td>\n",
       "    </tr>\n",
       "    <tr>\n",
       "      <th>c.txt</th>\n",
       "      <td>N</td>\n",
       "      <td>N</td>\n",
       "      <td>N</td>\n",
       "      <td>N</td>\n",
       "      <td>A</td>\n",
       "      <td>S</td>\n",
       "      <td>S</td>\n",
       "      <td>S</td>\n",
       "      <td>S</td>\n",
       "      <td>D</td>\n",
       "      <td>N</td>\n",
       "      <td>N</td>\n",
       "    </tr>\n",
       "    <tr>\n",
       "      <th>creation.sh</th>\n",
       "      <td>A</td>\n",
       "      <td>S</td>\n",
       "      <td>S</td>\n",
       "      <td>S</td>\n",
       "      <td>S</td>\n",
       "      <td>S</td>\n",
       "      <td>S</td>\n",
       "      <td>M</td>\n",
       "      <td>S</td>\n",
       "      <td>M</td>\n",
       "      <td>S</td>\n",
       "      <td>S</td>\n",
       "    </tr>\n",
       "    <tr>\n",
       "      <th>d.txt</th>\n",
       "      <td>N</td>\n",
       "      <td>N</td>\n",
       "      <td>N</td>\n",
       "      <td>N</td>\n",
       "      <td>A</td>\n",
       "      <td>M</td>\n",
       "      <td>S</td>\n",
       "      <td>S</td>\n",
       "      <td>D</td>\n",
       "      <td>N</td>\n",
       "      <td>N</td>\n",
       "      <td>N</td>\n",
       "    </tr>\n",
       "    <tr>\n",
       "      <th>e.txt</th>\n",
       "      <td>N</td>\n",
       "      <td>N</td>\n",
       "      <td>N</td>\n",
       "      <td>N</td>\n",
       "      <td>A</td>\n",
       "      <td>M</td>\n",
       "      <td>S</td>\n",
       "      <td>S</td>\n",
       "      <td>S</td>\n",
       "      <td>M</td>\n",
       "      <td>S</td>\n",
       "      <td>S</td>\n",
       "    </tr>\n",
       "    <tr>\n",
       "      <th>f.txt</th>\n",
       "      <td>N</td>\n",
       "      <td>N</td>\n",
       "      <td>N</td>\n",
       "      <td>N</td>\n",
       "      <td>N</td>\n",
       "      <td>N</td>\n",
       "      <td>A</td>\n",
       "      <td>S</td>\n",
       "      <td>S</td>\n",
       "      <td>M</td>\n",
       "      <td>S</td>\n",
       "      <td>S</td>\n",
       "    </tr>\n",
       "    <tr>\n",
       "      <th>git_history.ipynb</th>\n",
       "      <td>N</td>\n",
       "      <td>N</td>\n",
       "      <td>N</td>\n",
       "      <td>N</td>\n",
       "      <td>N</td>\n",
       "      <td>N</td>\n",
       "      <td>N</td>\n",
       "      <td>N</td>\n",
       "      <td>N</td>\n",
       "      <td>N</td>\n",
       "      <td>A</td>\n",
       "      <td>D</td>\n",
       "    </tr>\n",
       "    <tr>\n",
       "      <th>git_history.py</th>\n",
       "      <td>N</td>\n",
       "      <td>N</td>\n",
       "      <td>N</td>\n",
       "      <td>N</td>\n",
       "      <td>N</td>\n",
       "      <td>N</td>\n",
       "      <td>N</td>\n",
       "      <td>N</td>\n",
       "      <td>N</td>\n",
       "      <td>N</td>\n",
       "      <td>A</td>\n",
       "      <td>D</td>\n",
       "    </tr>\n",
       "    <tr>\n",
       "      <th>git_history_test_git.ipynb</th>\n",
       "      <td>N</td>\n",
       "      <td>N</td>\n",
       "      <td>N</td>\n",
       "      <td>N</td>\n",
       "      <td>N</td>\n",
       "      <td>N</td>\n",
       "      <td>N</td>\n",
       "      <td>N</td>\n",
       "      <td>N</td>\n",
       "      <td>N</td>\n",
       "      <td>N</td>\n",
       "      <td>A</td>\n",
       "    </tr>\n",
       "    <tr>\n",
       "      <th>git_history_test_git.py</th>\n",
       "      <td>N</td>\n",
       "      <td>N</td>\n",
       "      <td>N</td>\n",
       "      <td>N</td>\n",
       "      <td>N</td>\n",
       "      <td>N</td>\n",
       "      <td>N</td>\n",
       "      <td>N</td>\n",
       "      <td>N</td>\n",
       "      <td>N</td>\n",
       "      <td>N</td>\n",
       "      <td>A</td>\n",
       "    </tr>\n",
       "  </tbody>\n",
       "</table>\n",
       "</div>"
      ],
      "text/plain": [
       "                           7545477 b904ffd 050a563 e92be1e 976869c 39ab315  \\\n",
       ".creation.sh.swp                 N       N       N       N       N       N   \n",
       "a.txt                            N       A       M       S       S       S   \n",
       "b.txt                            N       A       S       D       N       N   \n",
       "c.txt                            N       N       N       N       A       S   \n",
       "creation.sh                      A       S       S       S       S       S   \n",
       "d.txt                            N       N       N       N       A       M   \n",
       "e.txt                            N       N       N       N       A       M   \n",
       "f.txt                            N       N       N       N       N       N   \n",
       "git_history.ipynb                N       N       N       N       N       N   \n",
       "git_history.py                   N       N       N       N       N       N   \n",
       "git_history_test_git.ipynb       N       N       N       N       N       N   \n",
       "git_history_test_git.py          N       N       N       N       N       N   \n",
       "\n",
       "                           8ea5de7 afa0783 a4cb9a1 112e832 4714408 1ac1c35  \n",
       ".creation.sh.swp                 N       A       S       D       N       N  \n",
       "a.txt                            M       S       S       S       S       S  \n",
       "b.txt                            N       N       N       N       N       N  \n",
       "c.txt                            S       S       S       D       N       N  \n",
       "creation.sh                      S       M       S       M       S       S  \n",
       "d.txt                            S       S       D       N       N       N  \n",
       "e.txt                            S       S       S       M       S       S  \n",
       "f.txt                            A       S       S       M       S       S  \n",
       "git_history.ipynb                N       N       N       N       A       D  \n",
       "git_history.py                   N       N       N       N       A       D  \n",
       "git_history_test_git.ipynb       N       N       N       N       N       A  \n",
       "git_history_test_git.py          N       N       N       N       N       A  "
      ]
     },
     "execution_count": 13,
     "metadata": {},
     "output_type": "execute_result"
    }
   ],
   "source": [
    "all_filenames"
   ]
  },
  {
   "cell_type": "code",
   "execution_count": 14,
   "metadata": {
    "collapsed": false
   },
   "outputs": [],
   "source": [
    "def_states = {\n",
    "    'A' : 120,\n",
    "    'M' : 180,\n",
    "    'S' : 255, # custom value, Static\n",
    "    'D' : 240,\n",
    "    'N' : 128, # custom value, Non existent\n",
    "}\n",
    "\n",
    "history = all_filenames.applymap(lambda x: def_states[x]).values.copy()"
   ]
  },
  {
   "cell_type": "code",
   "execution_count": 15,
   "metadata": {
    "collapsed": false,
    "scrolled": true
   },
   "outputs": [],
   "source": [
    "h = history.astype('float')\n",
    "h[history == 128] = np.nan"
   ]
  },
  {
   "cell_type": "code",
   "execution_count": 22,
   "metadata": {
    "collapsed": false
   },
   "outputs": [
    {
     "data": {
      "image/png": "[encoded data removed]",
      "text/plain": [
       "<matplotlib.figure.Figure at 0x111be97d0>"
      ]
     },
     "metadata": {},
     "output_type": "display_data"
    }
   ],
   "source": [
    "fig = plt.figure(figsize=[10,8])\n",
    "\n",
    "ax = plt.subplot(111)\n",
    "for i in range(len(all_files)):\n",
    "    x = range(len(commits))\n",
    "    y = [i for kk in x]\n",
    "    ax.scatter(x, y, s = 700, c=h[i,:], alpha=1, marker='o',linewidths = 3 , cmap = plt.cm.spectral,vmin = 0, vmax = 255)\n",
    "    ax.plot(x, y, lw = 3, c='k', zorder=0)\n",
    " \n",
    "ax.set_xticks(range(history.shape[1]))\n",
    "ax.set_xticklabels(all_filenames.columns,rotation=90)\n",
    "\n",
    "ax.set_xlabel('commits sha-1 (time arrow to the right ->)')\n",
    "ax.set_xlim([-.5,len(commits)-0.5])\n",
    "ax.set_ylabel('file names')\n",
    "ax.set_yticks(range(history.shape[0]))\n",
    "ax.set_yticklabels(all_filenames.index.tolist())\n",
    "ax.set_yticks = 0.1\n",
    "# set 0 to bounding box width\n",
    "[i.set_linewidth(0.0) for i in ax.spines.itervalues()]\n",
    "# see http://stackoverflow.com/a/20416681/1435167\n",
    "# erase x ticks\n",
    "for tic in ax.xaxis.get_major_ticks():\n",
    "    tic.tick1On = tic.tick2On = False\n",
    "#     tic.label1On = tic.label2On = False\n",
    "# erase y ticks\n",
    "for tic in ax.yaxis.get_major_ticks():\n",
    "    tic.tick1On = tic.tick2On = False\n",
    "#     tic.label1On = tic.label2On = False\n",
    "\n",
    "ax2 = fig.add_axes([0.25, .9, 0.5, 0.075])\n",
    " \n",
    "colors = np.array(def_states.values()).astype('float')\n",
    "colors[colors == 128] = np.nan\n",
    "\n",
    "x = range(len(colors))\n",
    "y = [1 for kk in x]\n",
    "ax2.scatter(x, y, s = 700, c=colors, alpha=1, marker='o',linewidths = 3, cmap = plt.cm.spectral,vmin = 0, vmax = 255)\n",
    "ax2.plot(x, y, lw = 3, c='k', zorder=0)\n",
    " \n",
    "ax2.set_xticks(x)\n",
    "ax2.set_xticklabels(def_states_explain.values())\n",
    "ax2.set_xlabel('Legend')\n",
    "ax2.set_xlim([-.5,len(x)-0.5])\n",
    "ax2.set_ylim([0.99,1.01])\n",
    "# set 0 to bounding box width\n",
    "[i.set_linewidth(0.0) for i in ax2.spines.itervalues()]\n",
    "# # see http://stackoverflow.com/a/20416681/1435167\n",
    "# erase x ticks\n",
    "for tic in ax2.xaxis.get_major_ticks():\n",
    "    tic.tick1On = tic.tick2On = False\n",
    "# erase y ticks\n",
    "for tic in ax2.yaxis.get_major_ticks():\n",
    "    tic.tick1On = tic.tick2On = False\n",
    "    tic.label1On = tic.label2On = False\n",
    "\n",
    "fig.savefig('/Users/damo_ma/Desktop/test.png')"
   ]
  },
  {
   "cell_type": "code",
   "execution_count": 23,
   "metadata": {
    "collapsed": false
   },
   "outputs": [
    {
     "data": {
      "image/png": "[encoded data removed]",
      "text/plain": [
       "<matplotlib.figure.Figure at 0x111009c10>"
      ]
     },
     "metadata": {},
     "output_type": "display_data"
    }
   ],
   "source": [
    "# fake legend\n",
    "a = np.empty([2,len(def_states)])\n",
    "a[0,:] = [k for k in def_states.itervalues()]\n",
    "a[1,:] = a[0,:]\n",
    "plt.imshow(a,interpolation='nearest',cmap = plt.cm.spectral,vmin = 0, vmax = 255 )\n",
    "plt.xticks(range(len(def_states)), [k for k in def_states.iterkeys()]);\n",
    "plt.yticks([1], '');"
   ]
  },
  {
   "cell_type": "code",
   "execution_count": 24,
   "metadata": {
    "collapsed": false
   },
   "outputs": [
    {
     "data": {
      "image/png": "[encoded data removed]",
      "text/plain": [
       "<matplotlib.figure.Figure at 0x1109bb750>"
      ]
     },
     "metadata": {},
     "output_type": "display_data"
    }
   ],
   "source": [
    "fig = plt.figure(figsize=[10,10])\n",
    "\n",
    "plt.imshow(history,interpolation='nearest',cmap = plt.cm.spectral,vmin = 0, vmax = 255 )\n",
    "plt.xticks(range(history.shape[1]), all_filenames.columns, rotation='vertical');\n",
    "plt.xlabel('commits sha-1 (time arrow to the right ->)')\n",
    "plt.ylabel('file names')\n",
    "plt.yticks(range(history.shape[0]), all_filenames.index.tolist());"
   ]
  },
  {
   "cell_type": "code",
   "execution_count": null,
   "metadata": {
    "collapsed": true
   },
   "outputs": [],
   "source": []
  }
 ],
 "metadata": {
  "kernelspec": {
   "display_name": "Python 2",
   "language": "python",
   "name": "python2"
  },
  "language_info": {
   "codemirror_mode": {
    "name": "ipython",
    "version": 2
   },
   "file_extension": ".py",
   "mimetype": "text/x-python",
   "name": "python",
   "nbconvert_exporter": "python",
   "pygments_lexer": "ipython2",
   "version": "2.7.10"
  }
 },
 "nbformat": 4,
 "nbformat_minor": 0
}
